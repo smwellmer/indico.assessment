{
 "cells": [
  {
   "cell_type": "code",
   "execution_count": 8,
   "id": "685270b5-1d7f-4188-b136-dcdeb2daec5a",
   "metadata": {},
   "outputs": [
    {
     "name": "stdout",
     "output_type": "stream",
     "text": [
      "Collecting pandas\n",
      "  Using cached pandas-1.3.5-cp39-cp39-macosx_11_0_arm64.whl\n",
      "Requirement already satisfied: pytz>=2017.3 in /Users/sam/Desktop/portfolio/Indico/datapy/lib/python3.9/site-packages (from pandas) (2021.3)\n",
      "Collecting numpy>=1.20.0\n",
      "  Using cached numpy-1.22.1-cp39-cp39-macosx_11_0_arm64.whl (12.8 MB)\n",
      "Requirement already satisfied: python-dateutil>=2.7.3 in /Users/sam/Desktop/portfolio/Indico/datapy/lib/python3.9/site-packages (from pandas) (2.8.2)\n",
      "Requirement already satisfied: six>=1.5 in /Users/sam/Desktop/portfolio/Indico/datapy/lib/python3.9/site-packages (from python-dateutil>=2.7.3->pandas) (1.16.0)\n",
      "Installing collected packages: numpy, pandas\n",
      "Successfully installed numpy-1.22.1 pandas-1.3.5\n",
      "\u001b[33mWARNING: You are using pip version 21.1.3; however, version 21.3.1 is available.\n",
      "You should consider upgrading via the '/Users/sam/Desktop/portfolio/Indico/datapy/bin/python -m pip install --upgrade pip' command.\u001b[0m\n",
      "Note: you may need to restart the kernel to use updated packages.\n"
     ]
    }
   ],
   "source": [
    "pip install pandas"
   ]
  },
  {
   "cell_type": "code",
   "execution_count": 12,
   "id": "9c7ab52e-bdd6-4825-bd91-c56b8e21334c",
   "metadata": {},
   "outputs": [],
   "source": [
    "import csv\n",
    "import pandas as pd"
   ]
  },
  {
   "cell_type": "code",
   "execution_count": 16,
   "id": "af3ae318-b045-4eff-94d8-1a370b34255a",
   "metadata": {
    "tags": []
   },
   "outputs": [
    {
     "name": "stdout",
     "output_type": "stream",
     "text": [
      "                                              sentences\n",
      "0     {\"text\": \"The Fulton County Grand Jury said Fr...\n",
      "1     {\"text\": \"I will never use this airline again....\n",
      "2     {\"text\": \"The term jury had been charged by Fu...\n",
      "3     {\"text\": \"If I have to pay any additional fees...\n",
      "4     {\"text\": \"The jury said it did find that many ...\n",
      "...                                                 ...\n",
      "1295  {\"text\": \"can he repeat what he said please ?\"...\n",
      "1296  {\"text\": \"I remember his beardown performance ...\n",
      "1297  {\"text\": \"Can you help me get a new flight?\", ...\n",
      "1298  {\"text\": \"The spectacular Mays who reaches a d...\n",
      "1299  {\"text\": \"Could you repeat what you just said?...\n",
      "\n",
      "[1300 rows x 1 columns]\n"
     ]
    }
   ],
   "source": [
    "data = pd.read_csv(\"sources/sentence_dataset.csv\")\n",
    "print(data)"
   ]
  },
  {
   "cell_type": "code",
   "execution_count": null,
   "id": "f5af4edb-8b18-43cd-8b82-a49169e9e5cc",
   "metadata": {},
   "outputs": [],
   "source": []
  },
  {
   "cell_type": "code",
   "execution_count": null,
   "id": "35cdf3e5-537e-4c2a-ab6f-b3550da5528b",
   "metadata": {},
   "outputs": [],
   "source": []
  }
 ],
 "metadata": {
  "kernelspec": {
   "display_name": "Python 3 (ipykernel)",
   "language": "python",
   "name": "python3"
  },
  "language_info": {
   "codemirror_mode": {
    "name": "ipython",
    "version": 3
   },
   "file_extension": ".py",
   "mimetype": "text/x-python",
   "name": "python",
   "nbconvert_exporter": "python",
   "pygments_lexer": "ipython3",
   "version": "3.9.6"
  }
 },
 "nbformat": 4,
 "nbformat_minor": 5
}
